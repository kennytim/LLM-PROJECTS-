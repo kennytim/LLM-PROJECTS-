{
 "cells": [
  {
   "cell_type": "code",
   "execution_count": null,
   "id": "523b9f77",
   "metadata": {},
   "outputs": [],
   "source": [
    "#Step 1: Define the problem clearly\n",
    "#Patients receive lab test results (blood tests, urine tests, imaging reports, etc.).\n",
    "#These results often contain medical jargon and numbers that aren’t easy to understand.\n",
    "#Goal: Translate results into plain, human-friendly explanations (without replacing a doctor’s judgement).\n",
    "\n",
    "Step 2: Think about inputs and outputs\n",
    "#Input options:\n",
    "#Digital copy → patient uploads a PDF, text, or scans it.\n",
    "#Physical copy → patient takes a photo of the paper result → OCR extracts the text.\n",
    "\n",
    "#Output:\n",
    "#A plain language summary explaining:\n",
    "#What each test is\n",
    "#What the result means\n",
    "#Whether it’s within normal range\n",
    "#Whether follow-up with a doctor is important"
   ]
  },
  {
   "cell_type": "code",
   "execution_count": 1,
   "id": "193a929d",
   "metadata": {},
   "outputs": [],
   "source": [
    "##importing all the dependencies we need for our llm to work \n",
    "import os \n",
    "import openai\n",
    "\n",
    "from dotenv import load_dotenv\n",
    "load_dotenv(\"file.env\")\n",
    "openai.api_key = os.environ['OPENAI_API_KEY']"
   ]
  },
  {
   "cell_type": "code",
   "execution_count": 2,
   "id": "83f01a14",
   "metadata": {},
   "outputs": [
    {
     "name": "stderr",
     "output_type": "stream",
     "text": [
      "There was a problem when trying to write in your cache folder (C:\\Users\\ayodelefalajiki/.cache\\huggingface\\hub). You should set the environment variable TRANSFORMERS_CACHE to a writable directory.\n",
      "None of PyTorch, TensorFlow >= 2.0, or Flax have been found. Models won't be available and only tokenizers, configuration and file/data utilities can be used.\n"
     ]
    }
   ],
   "source": [
    "#importing all the langchain dependencies we will be using in our code \n",
    "\n",
    "from langchain_openai import ChatOpenAI\n",
    "from langchain.prompts import PromptTemplate \n",
    "from langchain.chains import LLMChain"
   ]
  },
  {
   "cell_type": "code",
   "execution_count": 8,
   "id": "89184573",
   "metadata": {},
   "outputs": [],
   "source": [
    "llm = ChatOpenAI(model=\"gpt-4o-mini\", temperature=0)\n",
    "\n",
    "prompt = PromptTemplate(\n",
    "    input_variables=[\"lab_results\"],\n",
    "    template=\"\"\"\n",
    "You are a medical assistant helping patients understand their lab test results.\n",
    "\n",
    "For each lab test in the results, provide:\n",
    "1. Test name\n",
    "2. Result and normal range\n",
    "3. Whether it is normal, low, or high\n",
    "4. A short plain language explanation\n",
    "\n",
    "At the end, add:\n",
    "⚠️ Disclaimer: This explanation is for understanding purposes only and not medical advice.\n",
    "\n",
    "Lab Results:\n",
    "{lab_results}\n",
    "\n",
    "Respond in a clear bullet-point format.\n",
    "\n",
    "\"\"\"\n",
    ")"
   ]
  },
  {
   "cell_type": "code",
   "execution_count": 9,
   "id": "ec85d206",
   "metadata": {},
   "outputs": [
    {
     "name": "stdout",
     "output_type": "stream",
     "text": [
      "- **Test Name:** Hemoglobin  \n",
      "  - **Result and Normal Range:** 10.2 g/dL (Normal: 13.5 - 17.5)  \n",
      "  - **Status:** Low  \n",
      "  - **Explanation:** Hemoglobin is a protein in red blood cells that carries oxygen. A low level may indicate anemia, which means your body might not be getting enough oxygen.\n",
      "\n",
      "- **Test Name:** WBC (White Blood Cell Count)  \n",
      "  - **Result and Normal Range:** 12,500 /µL (Normal: 4,500 - 11,000)  \n",
      "  - **Status:** High  \n",
      "  - **Explanation:** White blood cells help fight infections. A high count can suggest that your body is responding to an infection, inflammation, or other medical conditions.\n",
      "\n",
      "- **Test Name:** Cholesterol  \n",
      "  - **Result and Normal Range:** 240 mg/dL (Normal: <200)  \n",
      "  - **Status:** High  \n",
      "  - **Explanation:** Cholesterol is a fatty substance in your blood. A high level can increase the risk of heart disease and stroke, indicating that you may need to make lifestyle changes or consider medication.\n",
      "\n",
      "⚠️ Disclaimer: This explanation is for understanding purposes only and not medical advice.\n"
     ]
    }
   ],
   "source": [
    "chain = prompt | llm\n",
    "\n",
    "lab_text = \"\"\"\n",
    "- Hemoglobin: 10.2 g/dL (Normal: 13.5 - 17.5)\n",
    "- WBC: 12,500 /µL (Normal: 4,500 - 11,000)\n",
    "- Cholesterol: 240 mg/dL (Normal: <200)\n",
    "\"\"\"\n",
    "\n",
    "response = chain.invoke({\"lab_results\":lab_text})\n",
    "print(response.content)"
   ]
  },
  {
   "cell_type": "code",
   "execution_count": 10,
   "id": "f18b7567",
   "metadata": {},
   "outputs": [],
   "source": [
    "from langchain.document_loaders import PyPDFLoader\n",
    "from langchain.text_splitter import RecursiveCharacterTextSplitter\n"
   ]
  },
  {
   "cell_type": "code",
   "execution_count": 15,
   "id": "33636f9b",
   "metadata": {},
   "outputs": [
    {
     "name": "stdout",
     "output_type": "stream",
     "text": [
      "📄 Pages loaded: 19\n",
      "First page content preview:\n",
      " Hemoglobin g/dL 13.0 - 16.5Colorimetric 14.5\n",
      "RBC Count million/cmm 4.5 - 5.5Electrical impedance4.79\n",
      "Hematocrit % 40 - 49Calculated 43.3\n",
      "MCV fL 83 - 101Derived 90.3\n",
      "MCH pg 27.1 - 32.5Calculated 30.2\n",
      "MCHC g/dL 32.5 - 36.7Calculated 33.4\n",
      "RDW CV % 11.6 - 14Calculated 13.60\n",
      "Total WBC and Differential Count\n",
      "WBC Count H /cmm 4000 - 10000SF Cube cell analysis10570\n",
      "Neutrophils % 40 - 80Microscopic 73\n",
      "Lymphocytes % 20 - 40Microscopic 19\n",
      "Eosinophils % 1 - 6Microscopic 02\n",
      "Monocytes % 2 - 10Microscopic 06\n",
      "Basophils % 0 - 2Microscopic 00\n",
      "/cmm 2000 - 67007716\n",
      "/cmm 1100 - 33002008\n",
      "/cmm 00 - 400211\n",
      "/cmm 200 -\n"
     ]
    }
   ],
   "source": [
    "file = r\"C:\\Users\\ayodelefalajiki\\Desktop\\pathology_lab_result.pdf\"\n",
    "loader = PyPDFLoader(file)\n",
    "documents = loader.load()\n",
    "print(\"📄 Pages loaded:\", len(documents))\n",
    "print(\"First page content preview:\\n\", documents[0].page_content[:600])"
   ]
  },
  {
   "cell_type": "code",
   "execution_count": 16,
   "id": "42c59a26",
   "metadata": {},
   "outputs": [
    {
     "name": "stdout",
     "output_type": "stream",
     "text": [
      "Number of Chunks: 55\n",
      "Chunk sample:\n",
      " Hemoglobin g/dL 13.0 - 16.5Colorimetric 14.5\n",
      "RBC Count million/cmm 4.5 - 5.5Electrical impedance4.79\n",
      "Hematocrit % 40 - 49Calculated 43.3\n",
      "MCV fL 83 - 101Derived 90.3\n",
      "MCH pg 27.1 - 32.5Calculated 30.2\n",
      "MCHC g/dL 32.5 - 36.7Calculated 33.4\n",
      "RDW CV % 11.6 - 14Calculated 13.60\n",
      "Total WBC and Differential Count\n",
      "WBC Count H /cmm 4000 - 10000SF Cube cell analysis10570\n",
      "Neutrophils % 40 - 80Microscopic 73\n",
      "Lymphocytes % 20 - 40Microscopic 19\n",
      "Eosinophils % 1 - 6Microscopic 02\n",
      "Monocytes % 2 - 10Microscopic 06\n",
      "Basophils % 0 - 2Microscopic 00\n",
      "/cmm 2000 - 67007716\n",
      "/cmm 1100 - 33002008\n",
      "/cmm 00 - 400211\n",
      "/cmm 200 - 700634\n",
      "/cmm 0 - 1000\n",
      "Platelet Count /cmm 150000 - 410000Electrical impedance 150000\n",
      "MPV H fL 7.5 - 10.3Calculated 14.00\n",
      "Peripheral Smear Examination\n",
      "RBC Morphology Normochromic Normocytic\n"
     ]
    }
   ],
   "source": [
    "text_splitter = RecursiveCharacterTextSplitter(\n",
    "              chunk_size = 800,\n",
    "              chunk_overlap= 50\n",
    ")\n",
    "chunks = text_splitter.split_documents(documents)\n",
    "\n",
    "print(\"Number of Chunks:\", len(chunks))\n",
    "print(\"Chunk sample:\\n\", chunks[0].page_content)"
   ]
  },
  {
   "cell_type": "code",
   "execution_count": 18,
   "id": "22e471be",
   "metadata": {},
   "outputs": [
    {
     "name": "stdout",
     "output_type": "stream",
     "text": [
      "### Lab Test Results\n",
      "\n",
      "- **Test Name:** Hemoglobin  \n",
      "  - **Result:** 14.5 g/dL  \n",
      "  - **Normal Range:** 13.0 - 16.5 g/dL  \n",
      "  - **Status:** Normal  \n",
      "  - **Explanation:** Hemoglobin is the protein in red blood cells that carries oxygen. Your level is within the normal range, indicating good oxygen transport in your blood.\n",
      "\n",
      "- **Test Name:** RBC Count  \n",
      "  - **Result:** 4.79 million/cmm  \n",
      "  - **Normal Range:** 4.5 - 5.5 million/cmm  \n",
      "  - **Status:** Normal  \n",
      "  - **Explanation:** This measures the number of red blood cells. Your count is normal, suggesting adequate red blood cell production.\n",
      "\n",
      "- **Test Name:** Hematocrit  \n",
      "  - **Result:** 43.3%  \n",
      "  - **Normal Range:** 40 - 49%  \n",
      "  - **Status:** Normal  \n",
      "  - **Explanation:** Hematocrit indicates the proportion of blood volume that is made up of red blood cells. Your result is normal, reflecting a healthy blood composition.\n",
      "\n",
      "- **Test Name:** MCV (Mean Corpuscular Volume)  \n",
      "  - **Result:** 90.3 fL  \n",
      "  - **Normal Range:** 83 - 101 fL  \n",
      "  - **Status:** Normal  \n",
      "  - **Explanation:** MCV measures the average size of your red blood cells. Your value is within the normal range, indicating that your red blood cells are of normal size.\n",
      "\n",
      "- **Test Name:** MCH (Mean Corpuscular Hemoglobin)  \n",
      "  - **Result:** 30.2 pg  \n",
      "  - **Normal Range:** 27.1 - 32.5 pg  \n",
      "  - **Status:** Normal  \n",
      "  - **Explanation:** MCH indicates the average amount of hemoglobin per red blood cell. Your result is normal, suggesting that your red blood cells have a healthy amount of hemoglobin.\n",
      "\n",
      "- **Test Name:** MCHC (Mean Corpuscular Hemoglobin Concentration)  \n",
      "  - **Result:** 33.4 g/dL  \n",
      "  - **Normal Range:** 32.5 - 36.7 g/dL  \n",
      "  - **Status:** Normal  \n",
      "  - **Explanation:** MCHC measures the concentration of hemoglobin in a given volume of red blood cells. Your level is normal, indicating that your red blood cells are well-saturated with hemoglobin.\n",
      "\n",
      "- **Test Name:** RDW (Red Cell Distribution Width)  \n",
      "  - **Result:** 13.60%  \n",
      "  - **Normal Range:** 11.6 - 14%  \n",
      "  - **Status:** Normal  \n",
      "  - **Explanation:** RDW measures the variation in red blood cell size. Your result is normal, suggesting a consistent size among your red blood cells.\n",
      "\n",
      "- **Test Name:** WBC Count (White Blood Cell Count)  \n",
      "  - **Result:** 10,570 /cmm  \n",
      "  - **Normal Range:** 4,000 - 10,000 /cmm  \n",
      "  - **Status:** High  \n",
      "  - **Explanation:** This measures the number of white blood cells, which are important for fighting infection. Your count is elevated, which may indicate an infection or inflammation.\n",
      "\n",
      "- **Test Name:** Neutrophils %  \n",
      "  - **Result:** 73%  \n",
      "  - **Normal Range:** 40 - 80%  \n",
      "  - **Status:** Normal  \n",
      "  - **Explanation:** Neutrophils are a type of white blood cell that helps fight infections. Your percentage is normal, indicating a healthy immune response.\n",
      "\n",
      "- **Test Name:** Lymphocytes %  \n",
      "  - **Result:** 19%  \n",
      "  - **Normal Range:** 20 - 40%  \n",
      "  - **Status:** Low  \n",
      "  - **Explanation:** Lymphocytes are another type of white blood cell involved in immune function. Your percentage is slightly low, which may require further evaluation.\n",
      "\n",
      "- **Test Name:** Eosinophils %  \n",
      "  - **Result:** 0.2%  \n",
      "  - **Normal Range:** 1 - 6%  \n",
      "  - **Status:** Low  \n",
      "  - **Explanation:** Eosinophils are involved in allergic reactions and fighting parasites. Your level is low, which is generally not a concern unless you have specific symptoms.\n",
      "\n",
      "- **Test Name:** Monocytes %  \n",
      "  - **Result:** 6%  \n",
      "  - **Normal Range:** 2 - 10%  \n",
      "  - **Status:** Normal  \n",
      "  - **Explanation:** Monocytes help in the immune response and clean up dead cells. Your percentage is normal, indicating a healthy immune function.\n",
      "\n",
      "- **Test Name:** Basophils %  \n",
      "  - **Result:** 0%  \n",
      "  - **Normal Range:** 0 - 2%  \n",
      "  - **Status:** Normal  \n",
      "  - **Explanation:** Basophils are involved in allergic responses. Your level is normal, indicating no unusual allergic activity.\n",
      "\n",
      "- **Test Name:** Platelet Count  \n",
      "  - **Result:** 150,000 /cmm  \n",
      "  - **Normal Range:** 150,000 - 410,000 /cmm  \n",
      "  - **Status:** Normal  \n",
      "  - **Explanation:** Platelets help with blood clotting. Your count is at the lower end of normal, which is still considered healthy.\n",
      "\n",
      "- **Test Name:** MPV (Mean Platelet Volume)  \n",
      "  - **Result:** 14.00 fL  \n",
      "  - **Normal Range:** 7.5 - 10.3 fL  \n",
      "  - **Status:** High  \n",
      "  - **Explanation:** MPV measures the average size of platelets. Your result is elevated, which may indicate that your body is producing larger platelets, possibly in response to a condition.\n",
      "\n",
      "- **Test Name:** Peripheral Smear Examination  \n",
      "  - **Result:** RBC Morphology: Normochromic Normocytic  \n",
      "  - **Status:** Normal  \n",
      "  - **Explanation:** This examination looks at the shape and color of red blood cells. Your results are normal, indicating healthy red blood cell characteristics.\n",
      "\n",
      "⚠️ Disclaimer: This explanation is for understanding purposes only and not medical advice.\n"
     ]
    }
   ],
   "source": [
    "pdf_text = chunks[0].page_content\n",
    "\n",
    "result = chain.invoke({\"lab_results\": pdf_text})\n",
    "print(result.content)"
   ]
  }
 ],
 "metadata": {
  "kernelspec": {
   "display_name": "Python 3 (ipykernel)",
   "language": "python",
   "name": "python3"
  },
  "language_info": {
   "codemirror_mode": {
    "name": "ipython",
    "version": 3
   },
   "file_extension": ".py",
   "mimetype": "text/x-python",
   "name": "python",
   "nbconvert_exporter": "python",
   "pygments_lexer": "ipython3",
   "version": "3.11.5"
  }
 },
 "nbformat": 4,
 "nbformat_minor": 5
}
