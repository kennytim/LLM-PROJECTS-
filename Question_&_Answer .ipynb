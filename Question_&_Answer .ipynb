{
 "cells": [
  {
   "cell_type": "code",
   "execution_count": 1,
   "id": "2d48d880",
   "metadata": {},
   "outputs": [],
   "source": [
    "#import python os interface to interact with API and docs \n",
    "#import the openai library\n",
    "import os\n",
    "import openai\n",
    "\n",
    "from dotenv import load_dotenv\n",
    "#loading the env that contains our api key \n",
    "load_dotenv(\"file.env\")\n",
    "openai.api_key = os.environ['OPENAI_API_KEY']"
   ]
  },
  {
   "cell_type": "code",
   "execution_count": 2,
   "id": "99e5ed41",
   "metadata": {},
   "outputs": [
    {
     "name": "stdout",
     "output_type": "stream",
     "text": [
      "Requirement already satisfied: langchain in c:\\users\\ayodelefalajiki\\anaconda3\\lib\\site-packages (0.3.27)\n",
      "Requirement already satisfied: langchain-openai in c:\\users\\ayodelefalajiki\\anaconda3\\lib\\site-packages (0.3.33)\n",
      "Requirement already satisfied: pypdf in c:\\users\\ayodelefalajiki\\anaconda3\\lib\\site-packages (5.8.0)\n",
      "Requirement already satisfied: faiss-cpu in c:\\users\\ayodelefalajiki\\anaconda3\\lib\\site-packages (1.11.0.post1)\n",
      "Requirement already satisfied: langchain-core<1.0.0,>=0.3.72 in c:\\users\\ayodelefalajiki\\anaconda3\\lib\\site-packages (from langchain) (0.3.76)\n",
      "Requirement already satisfied: langchain-text-splitters<1.0.0,>=0.3.9 in c:\\users\\ayodelefalajiki\\anaconda3\\lib\\site-packages (from langchain) (0.3.9)\n",
      "Requirement already satisfied: langsmith>=0.1.17 in c:\\users\\ayodelefalajiki\\anaconda3\\lib\\site-packages (from langchain) (0.4.8)\n",
      "Requirement already satisfied: pydantic<3.0.0,>=2.7.4 in c:\\users\\ayodelefalajiki\\anaconda3\\lib\\site-packages (from langchain) (2.11.7)\n",
      "Requirement already satisfied: SQLAlchemy<3,>=1.4 in c:\\users\\ayodelefalajiki\\anaconda3\\lib\\site-packages (from langchain) (1.4.39)\n",
      "Requirement already satisfied: requests<3,>=2 in c:\\users\\ayodelefalajiki\\anaconda3\\lib\\site-packages (from langchain) (2.32.5)\n",
      "Requirement already satisfied: PyYAML>=5.3 in c:\\users\\ayodelefalajiki\\anaconda3\\lib\\site-packages (from langchain) (6.0)\n",
      "Requirement already satisfied: openai<2.0.0,>=1.104.2 in c:\\users\\ayodelefalajiki\\anaconda3\\lib\\site-packages (from langchain-openai) (1.107.1)\n",
      "Requirement already satisfied: tiktoken<1,>=0.7 in c:\\users\\ayodelefalajiki\\anaconda3\\lib\\site-packages (from langchain-openai) (0.9.0)\n",
      "Requirement already satisfied: numpy<3.0,>=1.25.0 in c:\\users\\ayodelefalajiki\\anaconda3\\lib\\site-packages (from faiss-cpu) (2.3.2)\n",
      "Requirement already satisfied: packaging in c:\\users\\ayodelefalajiki\\anaconda3\\lib\\site-packages (from faiss-cpu) (25.0)\n",
      "Requirement already satisfied: tenacity!=8.4.0,<10.0.0,>=8.1.0 in c:\\users\\ayodelefalajiki\\anaconda3\\lib\\site-packages (from langchain-core<1.0.0,>=0.3.72->langchain) (9.1.2)\n",
      "Requirement already satisfied: jsonpatch<2.0,>=1.33 in c:\\users\\ayodelefalajiki\\anaconda3\\lib\\site-packages (from langchain-core<1.0.0,>=0.3.72->langchain) (1.33)\n",
      "Requirement already satisfied: typing-extensions>=4.7 in c:\\users\\ayodelefalajiki\\anaconda3\\lib\\site-packages (from langchain-core<1.0.0,>=0.3.72->langchain) (4.14.1)\n",
      "Requirement already satisfied: httpx<1,>=0.23.0 in c:\\users\\ayodelefalajiki\\anaconda3\\lib\\site-packages (from langsmith>=0.1.17->langchain) (0.28.1)\n",
      "Requirement already satisfied: orjson<4.0.0,>=3.9.14 in c:\\users\\ayodelefalajiki\\anaconda3\\lib\\site-packages (from langsmith>=0.1.17->langchain) (3.11.0)\n",
      "Requirement already satisfied: requests-toolbelt<2.0.0,>=1.0.0 in c:\\users\\ayodelefalajiki\\anaconda3\\lib\\site-packages (from langsmith>=0.1.17->langchain) (1.0.0)\n",
      "Requirement already satisfied: zstandard<0.24.0,>=0.23.0 in c:\\users\\ayodelefalajiki\\anaconda3\\lib\\site-packages (from langsmith>=0.1.17->langchain) (0.23.0)\n",
      "Requirement already satisfied: anyio<5,>=3.5.0 in c:\\users\\ayodelefalajiki\\anaconda3\\lib\\site-packages (from openai<2.0.0,>=1.104.2->langchain-openai) (3.5.0)\n",
      "Requirement already satisfied: distro<2,>=1.7.0 in c:\\users\\ayodelefalajiki\\anaconda3\\lib\\site-packages (from openai<2.0.0,>=1.104.2->langchain-openai) (1.9.0)\n",
      "Requirement already satisfied: jiter<1,>=0.4.0 in c:\\users\\ayodelefalajiki\\anaconda3\\lib\\site-packages (from openai<2.0.0,>=1.104.2->langchain-openai) (0.10.0)\n",
      "Requirement already satisfied: sniffio in c:\\users\\ayodelefalajiki\\anaconda3\\lib\\site-packages (from openai<2.0.0,>=1.104.2->langchain-openai) (1.2.0)\n",
      "Requirement already satisfied: tqdm>4 in c:\\users\\ayodelefalajiki\\anaconda3\\lib\\site-packages (from openai<2.0.0,>=1.104.2->langchain-openai) (4.65.0)\n",
      "Requirement already satisfied: annotated-types>=0.6.0 in c:\\users\\ayodelefalajiki\\anaconda3\\lib\\site-packages (from pydantic<3.0.0,>=2.7.4->langchain) (0.7.0)\n",
      "Requirement already satisfied: pydantic-core==2.33.2 in c:\\users\\ayodelefalajiki\\anaconda3\\lib\\site-packages (from pydantic<3.0.0,>=2.7.4->langchain) (2.33.2)\n",
      "Requirement already satisfied: typing-inspection>=0.4.0 in c:\\users\\ayodelefalajiki\\anaconda3\\lib\\site-packages (from pydantic<3.0.0,>=2.7.4->langchain) (0.4.1)\n",
      "Requirement already satisfied: charset_normalizer<4,>=2 in c:\\users\\ayodelefalajiki\\anaconda3\\lib\\site-packages (from requests<3,>=2->langchain) (2.0.4)\n",
      "Requirement already satisfied: idna<4,>=2.5 in c:\\users\\ayodelefalajiki\\anaconda3\\lib\\site-packages (from requests<3,>=2->langchain) (3.4)\n",
      "Requirement already satisfied: urllib3<3,>=1.21.1 in c:\\users\\ayodelefalajiki\\anaconda3\\lib\\site-packages (from requests<3,>=2->langchain) (2.5.0)\n",
      "Requirement already satisfied: certifi>=2017.4.17 in c:\\users\\ayodelefalajiki\\anaconda3\\lib\\site-packages (from requests<3,>=2->langchain) (2023.11.17)\n",
      "Requirement already satisfied: greenlet!=0.4.17 in c:\\users\\ayodelefalajiki\\anaconda3\\lib\\site-packages (from SQLAlchemy<3,>=1.4->langchain) (2.0.1)\n",
      "Requirement already satisfied: regex>=2022.1.18 in c:\\users\\ayodelefalajiki\\anaconda3\\lib\\site-packages (from tiktoken<1,>=0.7->langchain-openai) (2022.7.9)\n",
      "Requirement already satisfied: httpcore==1.* in c:\\users\\ayodelefalajiki\\anaconda3\\lib\\site-packages (from httpx<1,>=0.23.0->langsmith>=0.1.17->langchain) (1.0.9)\n",
      "Requirement already satisfied: h11>=0.16 in c:\\users\\ayodelefalajiki\\anaconda3\\lib\\site-packages (from httpcore==1.*->httpx<1,>=0.23.0->langsmith>=0.1.17->langchain) (0.16.0)\n",
      "Requirement already satisfied: jsonpointer>=1.9 in c:\\users\\ayodelefalajiki\\anaconda3\\lib\\site-packages (from jsonpatch<2.0,>=1.33->langchain-core<1.0.0,>=0.3.72->langchain) (2.1)\n",
      "Requirement already satisfied: colorama in c:\\users\\ayodelefalajiki\\anaconda3\\lib\\site-packages (from tqdm>4->openai<2.0.0,>=1.104.2->langchain-openai) (0.4.6)\n",
      "Note: you may need to restart the kernel to use updated packages.\n"
     ]
    }
   ],
   "source": [
    "# Install required dependencies for embeddings, retrieval, and PDF loading\n",
    "    pip install langchain langchain-openai pypdf faiss-cpu\n"
   ]
  },
  {
   "cell_type": "code",
   "execution_count": 3,
   "id": "81e0e9ae",
   "metadata": {},
   "outputs": [
    {
     "name": "stderr",
     "output_type": "stream",
     "text": [
      "There was a problem when trying to write in your cache folder (C:\\Users\\ayodelefalajiki/.cache\\huggingface\\hub). You should set the environment variable TRANSFORMERS_CACHE to a writable directory.\n",
      "None of PyTorch, TensorFlow >= 2.0, or Flax have been found. Models won't be available and only tokenizers, configuration and file/data utilities can be used.\n"
     ]
    }
   ],
   "source": [
    "# to Load PDF documents\n",
    "from langchain.document_loaders import PyPDFLoader\n",
    "# Split text into manageable chunks for embeddings\n",
    "from langchain.text_splitter import RecursiveCharacterTextSplitter "
   ]
  },
  {
   "cell_type": "code",
   "execution_count": 5,
   "id": "3a981a15",
   "metadata": {},
   "outputs": [],
   "source": [
    "## Load the pdf \n",
    "loader = PyPDFLoader(r\"C:\\Users\\ayodelefalajiki\\Desktop\\Grad_school_ Doc\\SOP GEORGIA STATE UNIVERSITY.pdf\")\n",
    "document= loader.load()"
   ]
  },
  {
   "cell_type": "code",
   "execution_count": 9,
   "id": "129b108a",
   "metadata": {},
   "outputs": [],
   "source": [
    "#split the pdf using a recursive splitter\n",
    "text_splitter= RecursiveCharacterTextSplitter(chunk_size = 500, chunk_overlap=150)\n",
    "docs = text_splitter.split_documents(document)\n"
   ]
  },
  {
   "cell_type": "code",
   "execution_count": 14,
   "id": "3546f475",
   "metadata": {},
   "outputs": [],
   "source": [
    "# Import OpenAI embeddings model (used to convert text into numerical vectors)\n",
    "from langchain_openai import OpenAIEmbeddings \n",
    "\n",
    "# Import FAISS (Facebook AI Similarity Search) as the vector store for storing and retrieving embeddings\n",
    "from langchain.vectorstores import FAISS"
   ]
  },
  {
   "cell_type": "code",
   "execution_count": 20,
   "id": "17dc9e57",
   "metadata": {},
   "outputs": [],
   "source": [
    "#intialize the embedding \n",
    "embeddings = OpenAIEmbeddings()\n",
    "#create a vector store \n",
    "vectordb= FAISS.from_documents(docs, embeddings)"
   ]
  },
  {
   "cell_type": "code",
   "execution_count": 18,
   "id": "31608f6e",
   "metadata": {},
   "outputs": [],
   "source": [
    "# Define the local directory where FAISS index will be saved\n",
    "# (Use a raw string r\"\" for Windows paths to avoid escape character issues)\n",
    "persist_directory = r\"C:\\Users\\ayodelefalajiki\\Desktop\\FAISS\"\n",
    "\n",
    "\n",
    "# Save the FAISS vector database locally so it can be reloaded later\n",
    "vectordb.save_local(persist_directory)"
   ]
  },
  {
   "cell_type": "code",
   "execution_count": 25,
   "id": "8707dbbe",
   "metadata": {},
   "outputs": [],
   "source": [
    "# Load the FAISS vector database from local storage\n",
    "# - folder_path: the directory where FAISS was saved\n",
    "# - embeddings: the same embeddings model used when creating the index\n",
    "# - index_name: optional, default is \"index\" (useful if you saved multiple indexes)\n",
    "# - allow_dangerous_deserialization: set to True only if you trust the source of the index\n",
    "vectordb= FAISS.load_local(\n",
    "       folder_path=persist_directory,\n",
    "    embeddings=embeddings,\n",
    "    index_name=\"index\",\n",
    "    allow_dangerous_deserialization=True\n",
    ")"
   ]
  },
  {
   "cell_type": "code",
   "execution_count": 44,
   "id": "7124b004",
   "metadata": {},
   "outputs": [
    {
     "name": "stdout",
     "output_type": "stream",
     "text": [
      "Result 1:\n",
      "Additionally, I am interested in Professor Lipeng Wan research study on Adios 2: The adaptable \n",
      "input output system. a framework for high -performance data management. His work focuses \n",
      "on a tool that \n",
      "\n",
      "Result 2:\n",
      "One key finding was a consistent range of two to three million vehicles traversing Minnesota’s \n",
      "interstate annually until 2018, when we observed a sudden shift and noticeable decline in traffic \n",
      "volum \n",
      "\n",
      "Result 3:\n",
      "COMPUTER SCIENCE  MSA STATEMENT OF PURPOSE, GEORGIA STATE \n",
      "UNIVERSITY  \n",
      "My research focuses on  an intersection between Data Science and Analytics , an area I find \n",
      "increasingly essential as data tran \n",
      "\n"
     ]
    }
   ],
   "source": [
    "# Define a query to search against the FAISS vector database\n",
    "query = \"what is the document about\"\n",
    "# Perform a Max Marginal Relevance (MMR) search\n",
    "# - k=3 means return the top 3 most relevant and diverse chunks\n",
    "results = vectordb.max_marginal_relevance_search(query,k=3,)\n",
    "\n",
    "# print the results \n",
    "for i, doc in enumerate(results, 1):\n",
    "    print(f\"Result {i}:\")\n",
    "    print(doc.page_content[:200], \"\\n\")"
   ]
  },
  {
   "cell_type": "code",
   "execution_count": 36,
   "id": "81ec8056",
   "metadata": {},
   "outputs": [],
   "source": [
    "# Import OpenAI chat model (used as the LLM for answering questions)\n",
    "from langchain_openai import ChatOpenAI\n",
    "# Import RetrievalQA chain (connects retriever with LLM for end-to-end Q&A)\n",
    "from langchain.chains import RetrievalQA"
   ]
  },
  {
   "cell_type": "code",
   "execution_count": 37,
   "id": "cb1c90e0",
   "metadata": {},
   "outputs": [],
   "source": [
    "#set up the llm and setting the temp to zero to avoid indirect answers\n",
    "llm= ChatOpenAI(model=\"gpt-4o-mini\", temperature=0)"
   ]
  },
  {
   "cell_type": "code",
   "execution_count": 43,
   "id": "ac5b04e6",
   "metadata": {},
   "outputs": [
    {
     "name": "stdout",
     "output_type": "stream",
     "text": [
      "Answer: {'query': 'What is the document about', 'result': \"The document appears to be a statement of purpose for a graduate program in computer science, specifically focusing on data science and analytics. It discusses the author's research interests, including work on high-performance data management systems, privacy challenges in data analysis, and a comparative analysis of resource allocation algorithms in device-to-device communication. The author expresses a desire to advance the field through critical thinking and research, and mentions the influence of mentors in their academic journey.\"}\n"
     ]
    }
   ],
   "source": [
    "# Convert FAISS vector store into a retriever\n",
    "# - search_type=\"similarity\": retrieves the most relevant chunks based on similarity\n",
    "# - search_kwargs={\"k\": 4}: fetches the top 4 matching chunks\n",
    "retriever = vectordb.as_retriever(seach_type= \"similarity\", search_kwargs={\"k\":4})\n",
    "\n",
    "# Build a RetrievalQA chain\n",
    "# - llm: the language model to generate answers\n",
    "# - retriever: the retriever that fetches relevant docs\n",
    "# - chain_type=\"stuff\": the simplest chain (concatenates retrieved docs and passes them to the LLM)\n",
    "qa_chain = RetrievalQA.from_chain_type(\n",
    "            llm= llm,\n",
    "            retriever = retriever,\n",
    "             chain_type=\"stuff\"\n",
    ")\n",
    "# Ask a question and get an answer from the document\n",
    "response = qa_chain.invoke(\"What is the document about\")\n",
    "print(\"Answer:\", response)\n",
    "\n",
    "#You can also switch to an maximum marginal relevance search to compare with the similarity search \n",
    "\n"
   ]
  },
  {
   "cell_type": "code",
   "execution_count": 41,
   "id": "735ccfb4",
   "metadata": {},
   "outputs": [
    {
     "name": "stdout",
     "output_type": "stream",
     "text": [
      "16\n"
     ]
    }
   ],
   "source": []
  }
 ],
 "metadata": {
  "kernelspec": {
   "display_name": "Python 3 (ipykernel)",
   "language": "python",
   "name": "python3"
  },
  "language_info": {
   "codemirror_mode": {
    "name": "ipython",
    "version": 3
   },
   "file_extension": ".py",
   "mimetype": "text/x-python",
   "name": "python",
   "nbconvert_exporter": "python",
   "pygments_lexer": "ipython3",
   "version": "3.11.5"
  }
 },
 "nbformat": 4,
 "nbformat_minor": 5
}
